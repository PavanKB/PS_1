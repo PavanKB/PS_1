{
 "cells": [
  {
   "cell_type": "code",
   "execution_count": 1,
   "id": "1f0debe2-6918-462e-ae74-0aa4d95cf2a5",
   "metadata": {},
   "outputs": [
    {
     "name": "stderr",
     "output_type": "stream",
     "text": [
      "Intel(R) Extension for Scikit-learn* enabled (https://github.com/intel/scikit-learn-intelex)\n"
     ]
    }
   ],
   "source": [
    "from sklearnex import patch_sklearn\n",
    "patch_sklearn()\n",
    "\n",
    "import matplotlib.pyplot as plt\n",
    "import seaborn as sns\n",
    "\n",
    "import pandas as pd\n",
    "import numpy as np\n",
    "\n",
    "from sklearn.model_selection import cross_validate, train_test_split, GridSearchCV, LearningCurveDisplay, learning_curve, ValidationCurveDisplay, validation_curve\n",
    "from sklearn.preprocessing import OneHotEncoder, MinMaxScaler\n",
    "from sklearn.pipeline import Pipeline\n",
    "from sklearn.compose import ColumnTransformer\n",
    "from sklearn.ensemble import GradientBoostingClassifier\n",
    "from sklearn.metrics import (\n",
    "    confusion_matrix,\n",
    "    accuracy_score,\n",
    "    precision_score,\n",
    "    recall_score,\n",
    "    fbeta_score,\n",
    "    classification_report,\n",
    "    make_scorer\n",
    ")\n",
    "\n",
    "\n",
    "from utils import get_data, get_df_details, plot_distrb, make_confusion_matrix\n",
    "\n",
    "# sns.set_theme(rc={'figure.figsize':(11.7,8.27)})"
   ]
  },
  {
   "cell_type": "code",
   "execution_count": 2,
   "id": "082ee6a9",
   "metadata": {},
   "outputs": [],
   "source": [
    "# https://www.analyticsvidhya.com/blog/2016/02/complete-guide-parameter-tuning-gradient-boosting-gbm-python/"
   ]
  },
  {
   "cell_type": "code",
   "execution_count": 3,
   "id": "10adfa24",
   "metadata": {},
   "outputs": [],
   "source": [
    "X, y, metadata, variables = get_data('census_income')"
   ]
  },
  {
   "cell_type": "code",
   "execution_count": 4,
   "id": "81fc3f4e",
   "metadata": {},
   "outputs": [],
   "source": [
    "# Remove nulls\n",
    "\n",
    "# Replace ? with np.nan\n",
    "X.replace({'workclass': {'?': np.nan},\n",
    "           'occupation': {'?': np.nan},\n",
    "           'native-country': {'?': np.nan}}, \n",
    "           inplace=True)\n",
    "\n",
    "r, _ = np.where(pd.isnull(X))\n",
    "\n",
    "idx = [i for i in range(X.shape[0]) if i not in r]\n",
    "X = X.iloc[idx, :]\n",
    "y = y.iloc[idx, :]"
   ]
  },
  {
   "cell_type": "code",
   "execution_count": 5,
   "id": "972b9569",
   "metadata": {},
   "outputs": [],
   "source": [
    "# Filter to USA and remove columns capital-loss, capital-gain\n",
    "r = np.where(X['native-country']=='United-States')\n",
    "X = X.iloc[r[0], :].copy()\n",
    "y = y.iloc[r[0], :].copy()\n",
    "\n",
    "excl_col = ['native-country', 'capital-loss', 'capital-gain']\n",
    "X.drop(columns=excl_col, inplace=True)"
   ]
  },
  {
   "cell_type": "code",
   "execution_count": 6,
   "id": "ec0c250a",
   "metadata": {},
   "outputs": [],
   "source": [
    "# update the metadata\n",
    "variables = variables.query('name not in @excl_col')"
   ]
  },
  {
   "cell_type": "code",
   "execution_count": 7,
   "id": "af6af778",
   "metadata": {},
   "outputs": [
    {
     "data": {
      "text/plain": [
       "income\n",
       "<=50K     0.746973\n",
       ">50K      0.253027\n",
       "Name: proportion, dtype: float64"
      ]
     },
     "execution_count": 7,
     "metadata": {},
     "output_type": "execute_result"
    }
   ],
   "source": [
    "# This is an imbalanced dataset \n",
    "# https://machinelearningmastery.com/tour-of-evaluation-metrics-for-imbalanced-classification/\n",
    "\n",
    "y.replace({'<=50K.': '<=50K', '>50K.': '>50K'}, inplace=True)\n",
    "y.value_counts(normalize=True)"
   ]
  },
  {
   "cell_type": "code",
   "execution_count": 8,
   "id": "8b543ef5",
   "metadata": {},
   "outputs": [],
   "source": [
    "# Split data into train and test sets.\n",
    "# We use Stratifield sampling to ensure that the distribution of the data is maintained across the sample.\n",
    "# Use stratified kfold cross validation to ensure that the model is not overfitting the data\n",
    "\n",
    "TEST_SIZE = 0.2\n",
    "RANDOM_STATE = 42\n",
    "\n",
    "X_train, X_test, y_train, y_test = train_test_split(X, y, test_size=TEST_SIZE, random_state=RANDOM_STATE, stratify=y)"
   ]
  },
  {
   "cell_type": "code",
   "execution_count": 9,
   "id": "05ad1a56",
   "metadata": {},
   "outputs": [
    {
     "data": {
      "text/plain": [
       "0                age\n",
       "2             fnlwgt\n",
       "4      education-num\n",
       "12    hours-per-week\n",
       "Name: name, dtype: object"
      ]
     },
     "execution_count": 9,
     "metadata": {},
     "output_type": "execute_result"
    }
   ],
   "source": [
    "idx = variables['type'].isin(['Integer', 'Continuous'])\n",
    "num_cols = variables.loc[idx, 'name']\n",
    "num_cols = num_cols.loc[~num_cols.isin(y.columns.tolist())]\n",
    "num_cols"
   ]
  },
  {
   "cell_type": "code",
   "execution_count": 10,
   "id": "1b839e74",
   "metadata": {},
   "outputs": [
    {
     "data": {
      "text/plain": [
       "1         workclass\n",
       "3         education\n",
       "5    marital-status\n",
       "6        occupation\n",
       "7      relationship\n",
       "8              race\n",
       "9               sex\n",
       "Name: name, dtype: object"
      ]
     },
     "execution_count": 10,
     "metadata": {},
     "output_type": "execute_result"
    }
   ],
   "source": [
    "idx = variables['type'].isin(['Binary', 'Categorical'])\n",
    "cat_cols = variables.loc[idx, 'name']\n",
    "cat_cols = cat_cols.loc[~cat_cols.isin(y.columns)]\n",
    "cat_cols"
   ]
  },
  {
   "cell_type": "markdown",
   "id": "9dd731ec",
   "metadata": {},
   "source": [
    "# Train GradientBoostingClassifier"
   ]
  },
  {
   "cell_type": "code",
   "execution_count": 11,
   "id": "cb7aaf72-4f93-4d01-bf94-867e17f9a2f4",
   "metadata": {},
   "outputs": [],
   "source": [
    "\n",
    "RANDOM_STATE = 42\n",
    "N_FOLDS = 5\n",
    "N_JOBS = -1\n",
    "SCORING = 'accuracy'\n",
    "VERBOSE = 4\n",
    "\n",
    "\n",
    "# Use minmax scaler for simplicity, scalability, avoids assumption of distribution and there are no outliers in data\n",
    "num_pipeline = Pipeline(steps=[\n",
    "    ('scale', MinMaxScaler())\n",
    "])\n",
    "cat_pipeline = Pipeline(steps=[\n",
    "    ('one-hot', OneHotEncoder(handle_unknown='ignore', drop='if_binary', sparse=False))\n",
    "])\n",
    "\n",
    "col_trans = ColumnTransformer(transformers=[\n",
    "    ('num_pipeline', num_pipeline, num_cols),\n",
    "    ('cat_pipeline', cat_pipeline, cat_cols)\n",
    "    ],\n",
    "    remainder='drop',\n",
    "    n_jobs=N_JOBS)\n",
    "\n",
    "clf = GradientBoostingClassifier(random_state=RANDOM_STATE)\n",
    "clf_pipeline = Pipeline(steps=[\n",
    "    ('col_trans', col_trans),\n",
    "    ('model', clf)\n",
    "])\n",
    "\n"
   ]
  },
  {
   "cell_type": "markdown",
   "id": "d2ddacda",
   "metadata": {},
   "source": [
    "## Tune the GradientBoostingClassifier"
   ]
  },
  {
   "cell_type": "code",
   "execution_count": 12,
   "id": "38952046",
   "metadata": {},
   "outputs": [
    {
     "name": "stdout",
     "output_type": "stream",
     "text": [
      "------------------ n_estimators ------------------\n",
      "Fitting 5 folds for each of 7 candidates, totalling 35 fits\n",
      "------------------ learning_rate ------------------\n",
      "Fitting 5 folds for each of 9 candidates, totalling 45 fits\n"
     ]
    }
   ],
   "source": [
    "cv_scores = []\n",
    "\n",
    "grid_params = {\n",
    "        'n_estimators': {'model__n_estimators': [20, 50, 75, 100, 125, 150, 200]}, \n",
    "        'learning_rate': {'model__learning_rate': np.linspace(0.1, 0.9, 9)},\n",
    "    }\n",
    "for key, grid_param in grid_params.items():\n",
    "    print('------------------', key, '------------------')\n",
    "    \n",
    "    gs = GridSearchCV(clf_pipeline, grid_param, \n",
    "                      cv=N_FOLDS, scoring=SCORING, n_jobs=N_JOBS, verbose=VERBOSE, return_train_score=True)\n",
    "    gs.fit(X_train, y_train.values.ravel())\n",
    "\n",
    "    cv_scores.append(pd.DataFrame({'param': [key]*len(gs.cv_results_['mean_test_score']),\n",
    "                                   'value': gs.cv_results_[f'param_{list(grid_param.keys())[0]}'],\n",
    "                                   'mean_score': gs.cv_results_['mean_test_score']}))\n",
    "\n",
    "cv_scores = pd.concat(cv_scores)"
   ]
  },
  {
   "cell_type": "code",
   "execution_count": 13,
   "id": "f3b24ca2",
   "metadata": {},
   "outputs": [
    {
     "name": "stderr",
     "output_type": "stream",
     "text": [
      "c:\\Users\\pavan\\anaconda3\\envs\\ml\\Lib\\site-packages\\seaborn\\axisgrid.py:718: UserWarning: Using the pointplot function without specifying `order` is likely to produce an incorrect plot.\n",
      "  warnings.warn(warning)\n"
     ]
    },
    {
     "data": {
      "text/plain": [
       "<seaborn.axisgrid.FacetGrid at 0x250ab930d10>"
      ]
     },
     "execution_count": 13,
     "metadata": {},
     "output_type": "execute_result"
    },
    {
     "data": {
      "image/png": "[encoded data removed]",
      "text/plain": [
       "<Figure size 1200x400 with 2 Axes>"
      ]
     },
     "metadata": {},
     "output_type": "display_data"
    }
   ],
   "source": [
    "\n",
    "sns.FacetGrid(cv_scores, col='param', col_wrap=3, height=4, sharex=False).map(sns.pointplot, 'value', 'mean_score')"
   ]
  },
  {
   "cell_type": "code",
   "execution_count": 14,
   "id": "296e116b",
   "metadata": {},
   "outputs": [
    {
     "name": "stdout",
     "output_type": "stream",
     "text": [
      "Fitting 5 folds for each of 20 candidates, totalling 100 fits\n"
     ]
    },
    {
     "name": "stderr",
     "output_type": "stream",
     "text": [
      "c:\\Users\\pavan\\anaconda3\\envs\\ml\\Lib\\site-packages\\joblib\\externals\\loky\\process_executor.py:752: UserWarning: A worker stopped while some jobs were given to the executor. This can be caused by a too short worker timeout or by a memory leak.\n",
      "  warnings.warn(\n"
     ]
    },
    {
     "name": "stdout",
     "output_type": "stream",
     "text": [
      "Best Score of train set: 0.8367995466784672\n",
      "Best parameter set: {'model__learning_rate': 0.1, 'model__n_estimators': 150}\n",
      "Test Score: 0.8343625136215038\n"
     ]
    }
   ],
   "source": [
    "grid_params = {\n",
    "        'model__n_estimators': [50, 100, 150, 200], \n",
    "        'model__learning_rate': np.linspace(0.1, 0.9, 5)\n",
    "    }\n",
    "\n",
    "gs = GridSearchCV(clf_pipeline, grid_params, \n",
    "                    cv=N_FOLDS, scoring=SCORING, n_jobs=N_JOBS, verbose=VERBOSE, return_train_score=True)\n",
    "gs.fit(X_train, y_train.values.ravel())\n",
    "\n",
    "print(\"Best Score of train set: \"+str(gs.best_score_))\n",
    "print(\"Best parameter set: \"+str(gs.best_params_))\n",
    "print(\"Test Score: \"+str(gs.score(X_test, y_test)))"
   ]
  },
  {
   "cell_type": "code",
   "execution_count": 15,
   "id": "7eda56cc",
   "metadata": {},
   "outputs": [
    {
     "data": {
      "text/html": [
       "<style>#sk-container-id-1 {color: black;}#sk-container-id-1 pre{padding: 0;}#sk-container-id-1 div.sk-toggleable {background-color: white;}#sk-container-id-1 label.sk-toggleable__label {cursor: pointer;display: block;width: 100%;margin-bottom: 0;padding: 0.3em;box-sizing: border-box;text-align: center;}#sk-container-id-1 label.sk-toggleable__label-arrow:before {content: \"▸\";float: left;margin-right: 0.25em;color: #696969;}#sk-container-id-1 label.sk-toggleable__label-arrow:hover:before {color: black;}#sk-container-id-1 div.sk-estimator:hover label.sk-toggleable__label-arrow:before {color: black;}#sk-container-id-1 div.sk-toggleable__content {max-height: 0;max-width: 0;overflow: hidden;text-align: left;background-color: #f0f8ff;}#sk-container-id-1 div.sk-toggleable__content pre {margin: 0.2em;color: black;border-radius: 0.25em;background-color: #f0f8ff;}#sk-container-id-1 input.sk-toggleable__control:checked~div.sk-toggleable__content {max-height: 200px;max-width: 100%;overflow: auto;}#sk-container-id-1 input.sk-toggleable__control:checked~label.sk-toggleable__label-arrow:before {content: \"▾\";}#sk-container-id-1 div.sk-estimator input.sk-toggleable__control:checked~label.sk-toggleable__label {background-color: #d4ebff;}#sk-container-id-1 div.sk-label input.sk-toggleable__control:checked~label.sk-toggleable__label {background-color: #d4ebff;}#sk-container-id-1 input.sk-hidden--visually {border: 0;clip: rect(1px 1px 1px 1px);clip: rect(1px, 1px, 1px, 1px);height: 1px;margin: -1px;overflow: hidden;padding: 0;position: absolute;width: 1px;}#sk-container-id-1 div.sk-estimator {font-family: monospace;background-color: #f0f8ff;border: 1px dotted black;border-radius: 0.25em;box-sizing: border-box;margin-bottom: 0.5em;}#sk-container-id-1 div.sk-estimator:hover {background-color: #d4ebff;}#sk-container-id-1 div.sk-parallel-item::after {content: \"\";width: 100%;border-bottom: 1px solid gray;flex-grow: 1;}#sk-container-id-1 div.sk-label:hover label.sk-toggleable__label {background-color: #d4ebff;}#sk-container-id-1 div.sk-serial::before {content: \"\";position: absolute;border-left: 1px solid gray;box-sizing: border-box;top: 0;bottom: 0;left: 50%;z-index: 0;}#sk-container-id-1 div.sk-serial {display: flex;flex-direction: column;align-items: center;background-color: white;padding-right: 0.2em;padding-left: 0.2em;position: relative;}#sk-container-id-1 div.sk-item {position: relative;z-index: 1;}#sk-container-id-1 div.sk-parallel {display: flex;align-items: stretch;justify-content: center;background-color: white;position: relative;}#sk-container-id-1 div.sk-item::before, #sk-container-id-1 div.sk-parallel-item::before {content: \"\";position: absolute;border-left: 1px solid gray;box-sizing: border-box;top: 0;bottom: 0;left: 50%;z-index: -1;}#sk-container-id-1 div.sk-parallel-item {display: flex;flex-direction: column;z-index: 1;position: relative;background-color: white;}#sk-container-id-1 div.sk-parallel-item:first-child::after {align-self: flex-end;width: 50%;}#sk-container-id-1 div.sk-parallel-item:last-child::after {align-self: flex-start;width: 50%;}#sk-container-id-1 div.sk-parallel-item:only-child::after {width: 0;}#sk-container-id-1 div.sk-dashed-wrapped {border: 1px dashed gray;margin: 0 0.4em 0.5em 0.4em;box-sizing: border-box;padding-bottom: 0.4em;background-color: white;}#sk-container-id-1 div.sk-label label {font-family: monospace;font-weight: bold;display: inline-block;line-height: 1.2em;}#sk-container-id-1 div.sk-label-container {text-align: center;}#sk-container-id-1 div.sk-container {/* jupyter's `normalize.less` sets `[hidden] { display: none; }` but bootstrap.min.css set `[hidden] { display: none !important; }` so we also need the `!important` here to be able to override the default hidden behavior on the sphinx rendered scikit-learn.org. See: https://github.com/scikit-learn/scikit-learn/issues/21755 */display: inline-block !important;position: relative;}#sk-container-id-1 div.sk-text-repr-fallback {display: none;}</style><div id=\"sk-container-id-1\" class=\"sk-top-container\"><div class=\"sk-text-repr-fallback\"><pre>GradientBoostingClassifier(n_estimators=150, random_state=42)</pre><b>In a Jupyter environment, please rerun this cell to show the HTML representation or trust the notebook. <br />On GitHub, the HTML representation is unable to render, please try loading this page with nbviewer.org.</b></div><div class=\"sk-container\" hidden><div class=\"sk-item\"><div class=\"sk-estimator sk-toggleable\"><input class=\"sk-toggleable__control sk-hidden--visually\" id=\"sk-estimator-id-1\" type=\"checkbox\" checked><label for=\"sk-estimator-id-1\" class=\"sk-toggleable__label sk-toggleable__label-arrow\">GradientBoostingClassifier</label><div class=\"sk-toggleable__content\"><pre>GradientBoostingClassifier(n_estimators=150, random_state=42)</pre></div></div></div></div></div>"
      ],
      "text/plain": [
       "GradientBoostingClassifier(n_estimators=150, random_state=42)"
      ]
     },
     "execution_count": 15,
     "metadata": {},
     "output_type": "execute_result"
    }
   ],
   "source": [
    "gs.best_estimator_['model']"
   ]
  },
  {
   "cell_type": "code",
   "execution_count": 16,
   "id": "e8e202f7",
   "metadata": {},
   "outputs": [
    {
     "data": {
      "text/plain": [
       "['boosted_dt_census_income_best.pkl']"
      ]
     },
     "execution_count": 16,
     "metadata": {},
     "output_type": "execute_result"
    }
   ],
   "source": [
    "import joblib\n",
    "joblib.dump(value=gs, filename='boosted_dt_census_income_ppl.pkl', compress=True)\n",
    "joblib.dump(value=gs.best_estimator_, filename='boosted_dt_census_income_best.pkl', compress=True)"
   ]
  },
  {
   "cell_type": "code",
   "execution_count": 18,
   "id": "3451b8a5",
   "metadata": {},
   "outputs": [
    {
     "name": "stderr",
     "output_type": "stream",
     "text": [
      "[Parallel(n_jobs=-1)]: Using backend LokyBackend with 16 concurrent workers.\n",
      "[Parallel(n_jobs=-1)]: Done  10 out of  45 | elapsed:    0.1s remaining:    0.5s\n",
      "[Parallel(n_jobs=-1)]: Done  22 out of  45 | elapsed:    0.2s remaining:    0.2s\n",
      "[Parallel(n_jobs=-1)]: Done  34 out of  45 | elapsed:    0.3s remaining:    0.0s\n",
      "[Parallel(n_jobs=-1)]: Done  45 out of  45 | elapsed:    0.5s finished\n"
     ]
    },
    {
     "data": {
      "image/png": "[encoded data removed]",
      "text/plain": [
       "<Figure size 640x480 with 1 Axes>"
      ]
     },
     "metadata": {},
     "output_type": "display_data"
    }
   ],
   "source": [
    "from sklearn.model_selection import ValidationCurveDisplay, validation_curve\n",
    "\n",
    "\n",
    "param_name, param_range = \"learning_rate\", np.linspace(0.1, 0.9, 9)\n",
    "train_scores, test_scores = validation_curve(\n",
    "     gs.best_estimator_['model'], X, y, param_name=param_name, param_range=param_range, cv=N_FOLDS, scoring=SCORING, n_jobs=N_JOBS, verbose=VERBOSE\n",
    " )\n",
    "display = ValidationCurveDisplay(\n",
    "     param_name=param_name, param_range=param_range,\n",
    "     train_scores=train_scores, test_scores=test_scores, score_name=\"Score\"\n",
    ")\n",
    "display.plot()\n",
    "plt.show()"
   ]
  },
  {
   "cell_type": "code",
   "execution_count": null,
   "id": "18c2c502",
   "metadata": {},
   "outputs": [],
   "source": [
    "gs.cv_results_.keys()\n",
    "\n",
    "# gs.cv_results_['mean_test_score']\n",
    "\n",
    "# dict_keys(['mean_fit_time', 'std_fit_time', \n",
    "# 'mean_score_time', 'std_score_time', \n",
    "# 'param_model__max_depth', 'params', \n",
    "# 'split0_test_score', 'split1_test_score', 'split2_test_score', 'split3_test_score', 'split4_test_score', 'split5_test_score', 'split6_test_score', 'split7_test_score', 'split8_test_score', 'split9_test_score', \n",
    "# 'mean_test_score', 'std_test_score', 'rank_test_score', \n",
    "# 'split0_train_score', 'split1_train_score', 'split2_train_score', 'split3_train_score', 'split4_train_score', 'split5_train_score', 'split6_train_score', 'split7_train_score', 'split8_train_score', 'split9_train_score', \n",
    "# 'mean_train_score', 'std_train_score'])\n"
   ]
  },
  {
   "cell_type": "code",
   "execution_count": null,
   "id": "b0aabe8f",
   "metadata": {},
   "outputs": [],
   "source": [
    "\n",
    "# Plot learning curve of the best model from grid search\n",
    "train_size_abs, train_scores, test_scores = \\\n",
    "    learning_curve(gs.best_estimator_, X_train, y_train, train_sizes=np.linspace(0.1, 1.0, 10), cv=N_FOLDS, n_jobs=N_JOBS, scoring=SCORING, verbose=VERBOSE)"
   ]
  },
  {
   "cell_type": "code",
   "execution_count": null,
   "id": "aa41041f",
   "metadata": {},
   "outputs": [],
   "source": [
    "plot_df = pd.DataFrame({'train_size_abs': train_size_abs, \n",
    "                        'mean_train_scores': np.mean(train_scores, axis=1), \n",
    "                        'mean_test_scores': np.mean(test_scores, axis=1)})\n",
    "plot_df = plot_df.melt(id_vars='train_size_abs', value_vars=['mean_train_scores', 'mean_test_scores'])\n",
    "sns.pointplot(plot_df, x='train_size_abs',y ='value', hue='variable')"
   ]
  },
  {
   "cell_type": "code",
   "execution_count": null,
   "id": "4babcc70",
   "metadata": {},
   "outputs": [],
   "source": [
    "\n",
    "# https://scikit-learn.org/stable/auto_examples/model_selection/plot_learning_curve.html\n",
    "\n",
    "fig, ax = plt.subplots(nrows=1, ncols=2, figsize=(10, 6), sharey=True)\n",
    "\n",
    "common_params = {\n",
    "    \"X\": X_train,\n",
    "    \"y\": y_train,\n",
    "    \"train_sizes\": np.linspace(0.1, 1.0, 10),\n",
    "    \"cv\": N_FOLDS,\n",
    "    \"score_type\": \"both\",\n",
    "    \"n_jobs\": N_JOBS,\n",
    "    \"line_kw\": {\"marker\": \"o\"},\n",
    "    \"std_display_style\": \"fill_between\",\n",
    "    \"score_name\": SCORING,\n",
    "}\n",
    "\n",
    "for ax_idx, estimator in enumerate([clf_pipeline]):\n",
    "    LearningCurveDisplay.from_estimator(estimator, **common_params, ax=ax[ax_idx])\n",
    "    handles, label = ax[ax_idx].get_legend_handles_labels()\n",
    "    ax[ax_idx].legend(handles[:2], [\"Training Score\", \"Test Score\"])\n",
    "    ax[ax_idx].set_title(f\"Learning Curve for {estimator.__class__.__name__}\")"
   ]
  },
  {
   "cell_type": "code",
   "execution_count": null,
   "id": "81f84b3e",
   "metadata": {},
   "outputs": [],
   "source": [
    "# Get the score of the best model on test\n",
    "\n",
    "# gs.best_estimator_ is the best model found by GridSearchCV\n",
    "y_test_predictions = gs.predict(X_test)\n",
    "# Generate confusion matrix for the predictions from the best model\n",
    "conf_matrix = confusion_matrix(y_test, y_test_predictions)\n",
    "\n",
    "make_confusion_matrix(conf_matrix, group_names=['True Neg','False Pos','False Neg','True Pos'], categories=['<=50K', '>50K'], cmap='Blues')"
   ]
  },
  {
   "cell_type": "code",
   "execution_count": null,
   "id": "a91d67c5",
   "metadata": {},
   "outputs": [],
   "source": [
    "\n",
    "scores = {'accuracy_score':accuracy_score(y_test, y_test_predictions),\n",
    "          'precision_score':precision_score(y_test, y_test_predictions, pos_label='>50K'),\n",
    "          'recall_score':recall_score(y_test, y_test_predictions, pos_label='>50K'),\n",
    "          'f2_score':fbeta_score(y_test, y_test_predictions, beta=2, pos_label='>50K')\n",
    "}\n",
    "\n",
    "print(scores)\n"
   ]
  },
  {
   "cell_type": "code",
   "execution_count": null,
   "id": "8883b0ed",
   "metadata": {},
   "outputs": [],
   "source": [
    "\n",
    "# target_names=target_names\n",
    "print(classification_report(y_test, y_test_predictions))\n"
   ]
  },
  {
   "cell_type": "code",
   "execution_count": null,
   "id": "80570d43",
   "metadata": {},
   "outputs": [],
   "source": [
    "from sklearn.metrics import RocCurveDisplay\n",
    "\n",
    "RocCurveDisplay.from_estimator(gs, X_test, y_test, )\n",
    "plt.show()"
   ]
  },
  {
   "cell_type": "code",
   "execution_count": null,
   "id": "d580b2df",
   "metadata": {},
   "outputs": [],
   "source": [
    "# plot precison recall curve\n",
    "import matplotlib.pyplot as plt\n",
    "from sklearn.metrics import (precision_recall_curve,\n",
    "                              PrecisionRecallDisplay)\n",
    "\n",
    "precision, recall, _ = precision_recall_curve(y_test, y_test_predictions)\n",
    "disp = PrecisionRecallDisplay(precision=precision, recall=recall)\n",
    "disp.plot()\n",
    "plt.show()"
   ]
  },
  {
   "cell_type": "code",
   "execution_count": null,
   "id": "4c35e5d4",
   "metadata": {},
   "outputs": [],
   "source": []
  }
 ],
 "metadata": {
  "kernelspec": {
   "display_name": "ml",
   "language": "python",
   "name": "python3"
  },
  "language_info": {
   "codemirror_mode": {
    "name": "ipython",
    "version": 3
   },
   "file_extension": ".py",
   "mimetype": "text/x-python",
   "name": "python",
   "nbconvert_exporter": "python",
   "pygments_lexer": "ipython3",
   "version": "3.11.7"
  }
 },
 "nbformat": 4,
 "nbformat_minor": 5
}
