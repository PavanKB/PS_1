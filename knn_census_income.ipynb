{
 "cells": [
  {
   "cell_type": "code",
   "execution_count": 1,
   "id": "1f0debe2-6918-462e-ae74-0aa4d95cf2a5",
   "metadata": {},
   "outputs": [
    {
     "name": "stderr",
     "output_type": "stream",
     "text": [
      "Intel(R) Extension for Scikit-learn* enabled (https://github.com/intel/scikit-learn-intelex)\n"
     ]
    }
   ],
   "source": [
    "from sklearnex import patch_sklearn\n",
    "patch_sklearn()\n",
    "\n",
    "import matplotlib.pyplot as plt\n",
    "import seaborn as sns\n",
    "\n",
    "import pandas as pd\n",
    "import numpy as np\n",
    "\n",
    "from sklearn.model_selection import cross_validate, train_test_split, GridSearchCV, LearningCurveDisplay, learning_curve, ValidationCurveDisplay, validation_curve\n",
    "from sklearn.preprocessing import OneHotEncoder, MinMaxScaler\n",
    "from sklearn.pipeline import Pipeline\n",
    "from sklearn.compose import ColumnTransformer\n",
    "from sklearn.neighbors import KNeighborsClassifier\n",
    "from sklearn.metrics import (\n",
    "    confusion_matrix,\n",
    "    accuracy_score,\n",
    "    precision_score,\n",
    "    recall_score,\n",
    "    fbeta_score,\n",
    "    classification_report,\n",
    "    make_scorer\n",
    ")\n",
    "\n",
    "\n",
    "from utils import get_data, get_df_details, plot_distrb, make_confusion_matrix\n",
    "\n",
    "# sns.set_theme(rc={'figure.figsize':(11.7,8.27)})"
   ]
  },
  {
   "cell_type": "code",
   "execution_count": 2,
   "id": "10adfa24",
   "metadata": {},
   "outputs": [],
   "source": [
    "X, y, metadata, variables = get_data('census_income')"
   ]
  },
  {
   "cell_type": "code",
   "execution_count": 3,
   "id": "c184a536",
   "metadata": {},
   "outputs": [],
   "source": [
    "# Remove nulls\n",
    "\n",
    "# Replace ? with np.nan\n",
    "X.replace({'workclass': {'?': np.nan},\n",
    "           'occupation': {'?': np.nan},\n",
    "           'native-country': {'?': np.nan}}, \n",
    "           inplace=True)\n",
    "\n",
    "r, _ = np.where(pd.isnull(X))\n",
    "\n",
    "idx = [i for i in range(X.shape[0]) if i not in r]\n",
    "X = X.iloc[idx, :]\n",
    "y = y.iloc[idx, :]"
   ]
  },
  {
   "cell_type": "code",
   "execution_count": 4,
   "id": "bd288f25",
   "metadata": {},
   "outputs": [],
   "source": [
    "# Filter to USA and remove columns capital-loss, capital-gain\n",
    "r = np.where(X['native-country']=='United-States')\n",
    "X = X.iloc[r[0], :].copy()\n",
    "y = y.iloc[r[0], :].copy()\n",
    "\n",
    "excl_col = ['native-country', 'capital-loss', 'capital-gain']\n",
    "X.drop(columns=excl_col, inplace=True)\n"
   ]
  },
  {
   "cell_type": "code",
   "execution_count": 5,
   "id": "fb262c90",
   "metadata": {},
   "outputs": [],
   "source": [
    "\n",
    "variables = variables.query('name not in @excl_col')"
   ]
  },
  {
   "cell_type": "code",
   "execution_count": 6,
   "id": "af6af778",
   "metadata": {},
   "outputs": [
    {
     "data": {
      "text/plain": [
       "income\n",
       "<=50K     0.746973\n",
       ">50K      0.253027\n",
       "Name: proportion, dtype: float64"
      ]
     },
     "execution_count": 6,
     "metadata": {},
     "output_type": "execute_result"
    }
   ],
   "source": [
    "y.replace({'<=50K.': '<=50K', '>50K.': '>50K'}, inplace=True)\n",
    "y.value_counts(normalize=True)"
   ]
  },
  {
   "cell_type": "code",
   "execution_count": 7,
   "id": "8b543ef5",
   "metadata": {},
   "outputs": [],
   "source": [
    "# Split data into train and test sets.\n",
    "# We use Stratifield sampling to ensure that the distribution of the data is maintained across the sample.\n",
    "# Use stratified kfold cross validation to ensure that the model is not overfitting the data\n",
    "\n",
    "TEST_SIZE = 0.2\n",
    "RANDOM_STATE = 42\n",
    "\n",
    "X_train, X_test, y_train, y_test = train_test_split(X, y, test_size=TEST_SIZE, random_state=RANDOM_STATE, stratify=y)"
   ]
  },
  {
   "cell_type": "code",
   "execution_count": 8,
   "id": "05ad1a56",
   "metadata": {},
   "outputs": [
    {
     "data": {
      "text/plain": [
       "0                age\n",
       "2             fnlwgt\n",
       "4      education-num\n",
       "12    hours-per-week\n",
       "Name: name, dtype: object"
      ]
     },
     "execution_count": 8,
     "metadata": {},
     "output_type": "execute_result"
    }
   ],
   "source": [
    "idx = variables['type'].isin(['Integer', 'Continuous'])\n",
    "num_cols = variables.loc[idx, 'name']\n",
    "num_cols = num_cols.loc[~num_cols.isin(y.columns.tolist())]\n",
    "num_cols"
   ]
  },
  {
   "cell_type": "code",
   "execution_count": 9,
   "id": "1b839e74",
   "metadata": {},
   "outputs": [
    {
     "data": {
      "text/plain": [
       "1         workclass\n",
       "3         education\n",
       "5    marital-status\n",
       "6        occupation\n",
       "7      relationship\n",
       "8              race\n",
       "9               sex\n",
       "Name: name, dtype: object"
      ]
     },
     "execution_count": 9,
     "metadata": {},
     "output_type": "execute_result"
    }
   ],
   "source": [
    "idx = variables['type'].isin(['Binary', 'Categorical'])\n",
    "cat_cols = variables.loc[idx, 'name']\n",
    "\n",
    "cat_cols = cat_cols.loc[~cat_cols.isin(y.columns)]\n",
    "cat_cols"
   ]
  },
  {
   "cell_type": "markdown",
   "id": "9dd731ec",
   "metadata": {},
   "source": [
    "# Train KNN"
   ]
  },
  {
   "cell_type": "code",
   "execution_count": 10,
   "id": "cb7aaf72-4f93-4d01-bf94-867e17f9a2f4",
   "metadata": {},
   "outputs": [],
   "source": [
    "\n",
    "RANDOM_STATE = 42\n",
    "N_FOLDS = 5\n",
    "N_JOBS = -1\n",
    "SCORING = 'accuracy'\n",
    "VERBOSE = 4\n",
    "\n",
    "\n",
    "# Use minmax scaler for simplicity, scalability, avoids assumption of distribution and there are no outliers in data\n",
    "num_pipeline = Pipeline(steps=[\n",
    "    ('scale', MinMaxScaler())\n",
    "])\n",
    "cat_pipeline = Pipeline(steps=[\n",
    "    ('one-hot', OneHotEncoder(handle_unknown='ignore', drop='if_binary', sparse=False))\n",
    "])\n",
    "\n",
    "col_trans = ColumnTransformer(transformers=[\n",
    "    ('num_pipeline', num_pipeline, num_cols),\n",
    "    ('cat_pipeline', cat_pipeline, cat_cols)\n",
    "    ],\n",
    "    remainder='drop',\n",
    "    n_jobs=N_JOBS)\n",
    "\n",
    "clf = KNeighborsClassifier(n_jobs=N_JOBS)\n",
    "clf_pipeline = Pipeline(steps=[\n",
    "    ('col_trans', col_trans),\n",
    "    ('model', clf)\n",
    "])\n",
    "\n"
   ]
  },
  {
   "cell_type": "markdown",
   "id": "d2ddacda",
   "metadata": {},
   "source": [
    "## Tune the KNN"
   ]
  },
  {
   "cell_type": "code",
   "execution_count": 11,
   "id": "38952046",
   "metadata": {},
   "outputs": [
    {
     "name": "stdout",
     "output_type": "stream",
     "text": [
      "------------------ n_neighbors ------------------\n",
      "Fitting 5 folds for each of 8 candidates, totalling 40 fits\n",
      "------------------ metric ------------------\n",
      "Fitting 5 folds for each of 3 candidates, totalling 15 fits\n"
     ]
    }
   ],
   "source": [
    "cv_scores = []\n",
    "\n",
    "grid_params = {\n",
    "        'n_neighbors': {'model__n_neighbors': [5, 10, 20, 30, 40, 50, 75, 100]}, \n",
    "        'metric': {'model__metric':['minkowski', 'manhattan', 'euclidean']},\n",
    "    }\n",
    "for key, grid_param in grid_params.items():\n",
    "    print('------------------', key, '------------------')\n",
    "    \n",
    "    gs = GridSearchCV(clf_pipeline, grid_param, \n",
    "                      cv=N_FOLDS, scoring=SCORING, n_jobs=N_JOBS, verbose=VERBOSE, return_train_score=True)\n",
    "    gs.fit(X_train, y_train.values.ravel())\n",
    "\n",
    "    cv_scores.append(pd.DataFrame({'param': [key]*len(gs.cv_results_['mean_test_score']),\n",
    "                                   'value': gs.cv_results_[f'param_{list(grid_param.keys())[0]}'],\n",
    "                                   'mean_test_score': gs.cv_results_['mean_test_score'],\n",
    "                                   'mean_train_score': gs.cv_results_['mean_train_score'],\n",
    "                                   }))\n",
    "\n",
    "cv_scores = pd.concat(cv_scores)"
   ]
  },
  {
   "cell_type": "code",
   "execution_count": 12,
   "id": "f3b24ca2",
   "metadata": {},
   "outputs": [
    {
     "name": "stderr",
     "output_type": "stream",
     "text": [
      "c:\\Users\\pavan\\anaconda3\\envs\\ml\\Lib\\site-packages\\seaborn\\axisgrid.py:718: UserWarning: Using the pointplot function without specifying `order` is likely to produce an incorrect plot.\n",
      "  warnings.warn(warning)\n"
     ]
    },
    {
     "data": {
      "text/plain": [
       "<seaborn.axisgrid.FacetGrid at 0x17a0f07a3d0>"
      ]
     },
     "execution_count": 12,
     "metadata": {},
     "output_type": "execute_result"
    },
    {
     "data": {
      "image/png": "[encoded data removed]",
      "text/plain": [
       "<Figure size 1200x400 with 2 Axes>"
      ]
     },
     "metadata": {},
     "output_type": "display_data"
    }
   ],
   "source": [
    "cv_scores_melt = cv_scores.melt(id_vars=['param', 'value'], value_vars=['mean_test_score', 'mean_train_score'], var_name='score_type', value_name='score')\n",
    "sns.FacetGrid(cv_scores_melt, col='param', hue='score_type', col_wrap=3, height=4, sharex=False, legend_out=False).map(sns.pointplot, 'value', 'score').add_legend()"
   ]
  },
  {
   "cell_type": "code",
   "execution_count": 13,
   "id": "296e116b",
   "metadata": {},
   "outputs": [
    {
     "name": "stdout",
     "output_type": "stream",
     "text": [
      "Fitting 5 folds for each of 27 candidates, totalling 135 fits\n"
     ]
    }
   ],
   "source": [
    "grid_params = {\n",
    "        'model__n_neighbors': np.arange(30, 75, 5), \n",
    "        'model__metric':['minkowski', 'manhattan', 'euclidean'],\n",
    "    }\n",
    "\n",
    "gs = GridSearchCV(clf_pipeline, grid_params, \n",
    "                    cv=N_FOLDS, scoring=SCORING, n_jobs=N_JOBS, verbose=VERBOSE, return_train_score=True)\n",
    "gs.fit(X_train, y_train.values.ravel())\n",
    "\n",
    "print(\"Best Score of train set: \"+str(gs.best_score_))\n",
    "print(\"Best parameter set: \"+str(gs.best_params_))\n",
    "print(\"Test Score: \"+str(gs.score(X_test,y_test)))"
   ]
  },
  {
   "cell_type": "code",
   "execution_count": null,
   "id": "7eda56cc",
   "metadata": {},
   "outputs": [],
   "source": [
    "gs.best_estimator_['model']"
   ]
  },
  {
   "cell_type": "code",
   "execution_count": null,
   "id": "47cc84cf",
   "metadata": {},
   "outputs": [],
   "source": [
    "import joblib\n",
    "joblib.dump(value=gs, filename='./model/knn_census_income_ppl.pkl', compress=True)\n",
    "joblib.dump(value=gs.best_estimator_, filename='./model/knn_census_income_best.pkl', compress=True)"
   ]
  },
  {
   "cell_type": "code",
   "execution_count": null,
   "id": "b0aabe8f",
   "metadata": {},
   "outputs": [],
   "source": [
    "\n",
    "# Plot learning curve of the best model from grid search\n",
    "train_size_abs, train_scores, test_scores = \\\n",
    "    learning_curve(gs.best_estimator_, X_train, y_train, train_sizes=np.linspace(0.1, 1.0, 10), cv=N_FOLDS, n_jobs=N_JOBS, scoring=SCORING, verbose=VERBOSE)"
   ]
  },
  {
   "cell_type": "code",
   "execution_count": null,
   "id": "aa41041f",
   "metadata": {},
   "outputs": [],
   "source": [
    "plot_df = pd.DataFrame({'train_size_abs': train_size_abs, \n",
    "                        'mean_train_scores': np.mean(train_scores, axis=1), \n",
    "                        'mean_test_scores': np.mean(test_scores, axis=1)})\n",
    "plot_df = plot_df.melt(id_vars='train_size_abs', value_vars=['mean_train_scores', 'mean_test_scores'])\n",
    "sns.pointplot(plot_df, x='train_size_abs',y ='value', hue='variable')"
   ]
  },
  {
   "cell_type": "code",
   "execution_count": null,
   "id": "4babcc70",
   "metadata": {},
   "outputs": [],
   "source": [
    "\n",
    "# # https://scikit-learn.org/stable/auto_examples/model_selection/plot_learning_curve.html\n",
    "\n",
    "# fig, ax = plt.subplots(nrows=1, ncols=2, figsize=(10, 6), sharey=True)\n",
    "\n",
    "# common_params = {\n",
    "#     \"X\": X_train,\n",
    "#     \"y\": y_train,\n",
    "#     \"train_sizes\": np.linspace(0.1, 1.0, 10),\n",
    "#     \"cv\": N_FOLDS,\n",
    "#     \"score_type\": \"both\",\n",
    "#     \"n_jobs\": N_JOBS,\n",
    "#     \"line_kw\": {\"marker\": \"o\"},\n",
    "#     \"std_display_style\": \"fill_between\",\n",
    "#     \"score_name\": SCORING,\n",
    "# }\n",
    "\n",
    "# for ax_idx, estimator in enumerate([clf_pipeline]):\n",
    "#     LearningCurveDisplay.from_estimator(estimator, **common_params, ax=ax[ax_idx])\n",
    "#     handles, label = ax[ax_idx].get_legend_handles_labels()\n",
    "#     ax[ax_idx].legend(handles[:2], [\"Training Score\", \"Test Score\"])\n",
    "#     ax[ax_idx].set_title(f\"Learning Curve for {estimator.__class__.__name__}\")"
   ]
  },
  {
   "cell_type": "code",
   "execution_count": null,
   "id": "81f84b3e",
   "metadata": {},
   "outputs": [],
   "source": [
    "# Get the score of the best model on test\n",
    "\n",
    "# gs.best_estimator_ is the best model found by GridSearchCV\n",
    "y_test_predictions = gs.predict(X_test)\n",
    "# Generate confusion matrix for the predictions from the best model\n",
    "conf_matrix = confusion_matrix(y_test, y_test_predictions)\n",
    "\n",
    "make_confusion_matrix(conf_matrix, group_names=['True Neg','False Pos','False Neg','True Pos'], categories=['<=50K', '>50K'], cmap='Blues')"
   ]
  },
  {
   "cell_type": "code",
   "execution_count": null,
   "id": "a91d67c5",
   "metadata": {},
   "outputs": [],
   "source": [
    "\n",
    "scores = {'accuracy_score':accuracy_score(y_test, y_test_predictions),\n",
    "          'precision_score':precision_score(y_test, y_test_predictions, pos_label='>50K'),\n",
    "          'recall_score':recall_score(y_test, y_test_predictions, pos_label='>50K'),\n",
    "          'f2_score':fbeta_score(y_test, y_test_predictions, beta=2, pos_label='>50K')\n",
    "}\n",
    "\n",
    "print(scores)\n"
   ]
  },
  {
   "cell_type": "code",
   "execution_count": null,
   "id": "8883b0ed",
   "metadata": {},
   "outputs": [],
   "source": [
    "\n",
    "# target_names=target_names\n",
    "print(classification_report(y_test, y_test_predictions))\n"
   ]
  },
  {
   "cell_type": "code",
   "execution_count": null,
   "id": "80570d43",
   "metadata": {},
   "outputs": [],
   "source": [
    "from sklearn.metrics import RocCurveDisplay\n",
    "\n",
    "RocCurveDisplay.from_estimator(gs, X_test, y_test, )\n",
    "plt.show()"
   ]
  },
  {
   "cell_type": "code",
   "execution_count": null,
   "id": "d580b2df",
   "metadata": {},
   "outputs": [],
   "source": [
    "# # plot precison recall curve\n",
    "# import matplotlib.pyplot as plt\n",
    "# from sklearn.metrics import (precision_recall_curve,\n",
    "#                               PrecisionRecallDisplay)\n",
    "\n",
    "# precision, recall, _ = precision_recall_curve(y_test, y_test_predictions, pos_label='>50K')\n",
    "# disp = PrecisionRecallDisplay(precision=precision, recall=recall)\n",
    "# disp.plot()\n",
    "# plt.show()"
   ]
  },
  {
   "cell_type": "code",
   "execution_count": null,
   "id": "39fbf582",
   "metadata": {},
   "outputs": [],
   "source": []
  }
 ],
 "metadata": {
  "kernelspec": {
   "display_name": "ml",
   "language": "python",
   "name": "python3"
  },
  "language_info": {
   "codemirror_mode": {
    "name": "ipython",
    "version": 3
   },
   "file_extension": ".py",
   "mimetype": "text/x-python",
   "name": "python",
   "nbconvert_exporter": "python",
   "pygments_lexer": "ipython3",
   "version": "3.11.7"
  }
 },
 "nbformat": 4,
 "nbformat_minor": 5
}
